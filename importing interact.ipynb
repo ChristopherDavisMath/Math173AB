{
 "cells": [
  {
   "cell_type": "markdown",
   "metadata": {},
   "source": [
    "# Automated decryption of the Shift Cipher\n",
    "Imagine you are walking through a forest and you discover a bottle with a sheet of paper in it.  On the paper is written the following four passages.  "
   ]
  },
  {
   "cell_type": "code",
   "execution_count": 36,
   "metadata": {},
   "outputs": [
    {
     "name": "stdout",
     "output_type": "stream",
     "text": [
      "1. TAKDQXMWLDTOTKAAGOHIJFJZRTIOSKFZKZIOSYIOUHKHSBCKRJIWUBMXSZRJUYOJEOYTCHZADSSJUTXRDTCQMCNQFGYNAYDDTZMXWACNHEWPBMIQMVXBJYFCJOHPNUFQSDIBSOQZTEOMRCWIDWQEERKYMZXRBBPXMWBLVRZBWPALLRIBEEIPHJQOYSKAUBMBXGKXQUSITSPQWFHOLKGYFDJUZLPSQNXVVQYMEGCXWQLJVHIVHKRANGLJSDLNDVZFWCTDXABOKBYAJMWYJRKICQMSMGSDHNLHVLNQJQLDWPLOKMXIWUPIHCMWNLBZBFKIPWCNLZDITFGEALEOFRYYPKOBVPVUFTODLFMGIIGVVDHQFAEBCLEDSRMZWXMHUVSJXFTPRSROWRQKDLKKSDWQXOJSTJUOAPAZIZSECFFVNJZYZFOIGKZWHMVMPIBAXKFOYAAXCTCOMDFHQGRHKIDSPRKUQTQ\n",
      "\n",
      "2. WHKOGHVSPSGHCTHWASGWHKOGHVSKCFGHCTHWASGWHKOGHVSOUSCTKWGRCAWHKOGHVSOUSCTTCCZWGVBSGGWHKOGHVSSDCQVCTPSZWSTWHKOGHVSSDCQVCTWBQFSRIZWHMWHKOGHVSGSOGCBCTZWUVHWHKOGHVSGSOGCBCTROFYBSGGWHKOGHVSGDFWBUCTVCDSWHKOGHVSKWBHSFCTRSGDOWFKSVORSJSFMHVWBUPSTCFSIGKSVORBCHVWBUPSTCFSIGKSKSFSOZZUCWBURWFSQHHCVSOJSBKSKSFSOZZUCWBURWFSQHHVSCHVSFKOMWBGVCFHHVSDSFWCRKOGGCTOFZWYSHVSDFSGSBHDSFWCRHVOHGCASCTWHGBCWGWSGHOIHVCFWHWSGWBGWGHSRCBWHGPSWBUFSQSWJSRTCFUCCRCFTCFSJWZWBHVSGIDSFZOHWJSRSUFSSCTQCADOFWGCBCBZM\n",
      "\n",
      "3. JCEFOCAQTQOCRPCJDQOJCEFOCAQERGOCRPCJDQOJCEFOCAQFLQRPEJOXRDJCEFOCAQFLQRPPRRVJOAUQOOJCEFOCAQQYRWARPTQVJQPJCEFOCAQQYRWARPJUWGQXKVJCNJCEFOCAQOQFORURPVJLACJCEFOCAQOQFORURPXFGSUQOOJCEFOCAQOYGJULRPARYQJCEFOCAQEJUCQGRPXQOYFJGEQAFXQHQGNCAJULTQPRGQKOEQAFXURCAJULTQPRGQKOEQEQGQFVVLRJULXJGQWCCRAQFHQUEQEQGQFVVLRJULXJGQWCCAQRCAQGEFNJUOARGCCAQYQGJRXEFOORPFGVJSQCAQYGQOQUCYQGJRXCAFCORDQRPJCOURJOJQOCFKCARGJCJQOJUOJOCQXRUJCOTQJULGQWQJHQXPRGLRRXRGPRGQHJVJUCAQOKYQGVFCJHQXQLGQQRPWRDYFGJORURUVN\n",
      "\n",
      "4. MCDPZAYGXFMBOTDIITRCZUGEAZTXHBXGULNMMBKCGCPALHLYUCOPYTQJWBCIAOKRNPQNJWBNEMVKKJGSDXHFYOOZBAZKDPPDBANLEZJUKJSDAKDFCZLIRAGYNSSKGMWRNHQAEPAONFXVIUGPCKCVRMIGGYBJAHFDHYAETJLYOFQQJPDZYAHHGUJHGCGMKTMAADOJHGTUAPWHEINCTFLBONZVSXCQORRPOFUGUPCKZGKYPDLUFODNFLJTCUYCVEREWDCEERQULFTXEVKKEVVTDPWFOMBRMHUBPYLGCTCUAYVQKKCQNMJDOUGRAWOTRYFOJKYEYZEOGVKFEPASOIOSFGBXIIJTWKTOKLZCMRTVBHGMDKRSEILKYKRDNAQDDKDVJHBPUWAYKSBAAALUTHKSYZDCSMZEVHMKGXBSZBPVGKTERITREBOJIWNKFRRESAPHXBTVEFVAHPXLWXDEGTCLTWBAPUH\n"
     ]
    }
   ],
   "source": [
    "print '1. TAKDQXMWLDTOTKAAGOHIJFJZRTIOSKFZKZIOSYIOUHKHSBCKRJIWUBMXSZRJUYOJEOYTCHZADSSJUTXRDTCQMCNQFGYNAYDDTZMXWACNHEWPBMIQMVXBJYFCJOHPNUFQSDIBSOQZTEOMRCWIDWQEERKYMZXRBBPXMWBLVRZBWPALLRIBEEIPHJQOYSKAUBMBXGKXQUSITSPQWFHOLKGYFDJUZLPSQNXVVQYMEGCXWQLJVHIVHKRANGLJSDLNDVZFWCTDXABOKBYAJMWYJRKICQMSMGSDHNLHVLNQJQLDWPLOKMXIWUPIHCMWNLBZBFKIPWCNLZDITFGEALEOFRYYPKOBVPVUFTODLFMGIIGVVDHQFAEBCLEDSRMZWXMHUVSJXFTPRSROWRQKDLKKSDWQXOJSTJUOAPAZIZSECFFVNJZYZFOIGKZWHMVMPIBAXKFOYAAXCTCOMDFHQGRHKIDSPRKUQTQ\\n\\n2. WHKOGHVSPSGHCTHWASGWHKOGHVSKCFGHCTHWASGWHKOGHVSOUSCTKWGRCAWHKOGHVSOUSCTTCCZWGVBSGGWHKOGHVSSDCQVCTPSZWSTWHKOGHVSSDCQVCTWBQFSRIZWHMWHKOGHVSGSOGCBCTZWUVHWHKOGHVSGSOGCBCTROFYBSGGWHKOGHVSGDFWBUCTVCDSWHKOGHVSKWBHSFCTRSGDOWFKSVORSJSFMHVWBUPSTCFSIGKSVORBCHVWBUPSTCFSIGKSKSFSOZZUCWBURWFSQHHCVSOJSBKSKSFSOZZUCWBURWFSQHHVSCHVSFKOMWBGVCFHHVSDSFWCRKOGGCTOFZWYSHVSDFSGSBHDSFWCRHVOHGCASCTWHGBCWGWSGHOIHVCFWHWSGWBGWGHSRCBWHGPSWBUFSQSWJSRTCFUCCRCFTCFSJWZWBHVSGIDSFZOHWJSRSUFSSCTQCADOFWGCBCBZM\\n\\n3. JCEFOCAQTQOCRPCJDQOJCEFOCAQERGOCRPCJDQOJCEFOCAQFLQRPEJOXRDJCEFOCAQFLQRPPRRVJOAUQOOJCEFOCAQQYRWARPTQVJQPJCEFOCAQQYRWARPJUWGQXKVJCNJCEFOCAQOQFORURPVJLACJCEFOCAQOQFORURPXFGSUQOOJCEFOCAQOYGJULRPARYQJCEFOCAQEJUCQGRPXQOYFJGEQAFXQHQGNCAJULTQPRGQKOEQAFXURCAJULTQPRGQKOEQEQGQFVVLRJULXJGQWCCRAQFHQUEQEQGQFVVLRJULXJGQWCCAQRCAQGEFNJUOARGCCAQYQGJRXEFOORPFGVJSQCAQYGQOQUCYQGJRXCAFCORDQRPJCOURJOJQOCFKCARGJCJQOJUOJOCQXRUJCOTQJULGQWQJHQXPRGLRRXRGPRGQHJVJUCAQOKYQGVFCJHQXQLGQQRPWRDYFGJORURUVN\\n\\n4. MCDPZAYGXFMBOTDIITRCZUGEAZTXHBXGULNMMBKCGCPALHLYUCOPYTQJWBCIAOKRNPQNJWBNEMVKKJGSDXHFYOOZBAZKDPPDBANLEZJUKJSDAKDFCZLIRAGYNSSKGMWRNHQAEPAONFXVIUGPCKCVRMIGGYBJAHFDHYAETJLYOFQQJPDZYAHHGUJHGCGMKTMAADOJHGTUAPWHEINCTFLBONZVSXCQORRPOFUGUPCKZGKYPDLUFODNFLJTCUYCVEREWDCEERQULFTXEVKKEVVTDPWFOMBRMHUBPYLGCTCUAYVQKKCQNMJDOUGRAWOTRYFOJKYEYZEOGVKFEPASOIOSFGBXIIJTWKTOKLZCMRTVBHGMDKRSEILKYKRDNAQDDKDVJHBPUWAYKSBAAALUTHKSYZDCSMZEVHMKGXBSZBPVGKTERITREBOJIWNKFRRESAPHXBTVEFVAHPXLWXDEGTCLTWBAPUH'"
   ]
  },
  {
   "cell_type": "markdown",
   "metadata": {},
   "source": [
    "What is the meaning of these passages?  Do they have meaning?  This can be a very subtle question.  The following image is from a 500-year-old document called the Voynich manuscript, and despite the manuscript containing over 200 pages, it is still not known if there is meaning behind the words or if it is an elaborate hoax."
   ]
  },
  {
   "cell_type": "markdown",
   "metadata": {},
   "source": [
    "![title](Voynich.png)"
   ]
  },
  {
   "cell_type": "markdown",
   "metadata": {},
   "source": [
    "Among our four passages listed above, it turns out that two of them have been encrypted using a cryptosystem and two of them are merely random strings of letters.  The goals of this notebook are the following:\n",
    "1. Introduce the shift cipher\n",
    "2. Introduce frequency analysis (both as a method of decryption and as a first approach to the question of whether a piece of text is ciphertext or nonsense)\n",
    "3. Write a function which automatically decrypts messages that were encrypted using the shift cipher"
   ]
  },
  {
   "cell_type": "markdown",
   "metadata": {},
   "source": [
    "We will use some custom functions (i.e., some functions which are not part of the Python programming language, but which instead were written for Math 173).  To get access to those functions, we need to load a module defining those functions.  Place your cursor in the following cell and hit shift+enter to evaluate it and load the functions."
   ]
  },
  {
   "cell_type": "code",
   "execution_count": 1,
   "metadata": {
    "collapsed": true
   },
   "outputs": [],
   "source": [
    "import test_interact\n",
    "test_interact = reload(test_interact)"
   ]
  },
  {
   "cell_type": "markdown",
   "metadata": {},
   "source": [
    "Perhaps the most basic method of encryption (and perhaps the least secure method of encryption) is the *shift cipher*.  The *key* associated to the shift cipher is an integer which specifies how much to shift each letter.  The key must be exchanged in secret between the encrypter and the recipient; anyone who knows the key will be able to decrypt the secret message.  \n",
    "\n",
    "To get a sense for how the shift cipher works, evaluate the following cell and then use the drop-down menu to try different key values.  We use the convention that plaintext is usually written with lower-case letters and ciphertext is usually written with upper-case letters."
   ]
  },
  {
   "cell_type": "code",
   "execution_count": 2,
   "metadata": {},
   "outputs": [
    {
     "data": {
      "application/vnd.jupyter.widget-view+json": {
       "model_id": "d0c282c1681a4847b1f11ff62ab7a204",
       "version_major": 2,
       "version_minor": 0
      },
      "text/plain": [
       "A Jupyter Widget"
      ]
     },
     "metadata": {},
     "output_type": "display_data"
    }
   ],
   "source": [
    "test_interact.shift_encrypt_interact('hello there my name is Chris, what is your name?')"
   ]
  },
  {
   "cell_type": "markdown",
   "metadata": {
    "collapsed": true
   },
   "source": [
    "We can make it a little more difficult by removing all spaces and punctuation.  Then it's no longer an option to look for words of length one and guess that such a word is \"a\" or \"I\".  It's also no longer an option to guess that a three-letter word which appears often is likely to be \"the\".  But of course, there is still a very simple naive attack on the shift cipher: if an adversary Eve just tries all 26 possible shift amounts, she will be able to recognize which results in English.  (Notice that, even though there are infinitely many integers, a shift of 28 is the same as a shift of 2 and is also the same as a shift of -24, so there are really only 26 possibilities.  In the language of modular arithmetic, the only important thing about the key is what is its residue modulo 26.)"
   ]
  },
  {
   "cell_type": "code",
   "execution_count": 3,
   "metadata": {},
   "outputs": [
    {
     "data": {
      "application/vnd.jupyter.widget-view+json": {
       "model_id": "41418dbde8f34a35a61f6ab46b6b56da",
       "version_major": 2,
       "version_minor": 0
      },
      "text/plain": [
       "A Jupyter Widget"
      ]
     },
     "metadata": {},
     "output_type": "display_data"
    }
   ],
   "source": [
    "test_interact.shift_encrypt_interact2('Lots of drama')"
   ]
  },
  {
   "cell_type": "markdown",
   "metadata": {},
   "source": [
    "We would now like to automate the naive attack on the shift cipher; in other words, we would like to input a piece of text encrypted using the shift cipher and we would like computer to return the corresponding plaintext.  If there are spaces, we can probably use a dictionary to do this, but what about in general?  It turns out there is a strategy which generalizes very well to more elaborate cryptosystems and which has nothing to do with recognizing English words, but instead has to do with recognizing the distribution of English letters.  Later in the class we will introduce the Vigenere cipher, which is similar to the shift cipher but much more sophisticated (it was once even thought to be unbreakable).  To motivate the attack we will eventually use on the Vigenere cipher, we introduce an attack on the shift cipher based on the idea of *frequency analysis*."
   ]
  },
  {
   "cell_type": "markdown",
   "metadata": {},
   "source": [
    "Some letters in English occur more often than others.  In the orange bar that appears below, the letter frequency which occurs in \"average\" English is shown.  For example, one can tell from the bar chart that E is the most common letter, whereas J, Q, X, Z are much less common.\n",
    "\n",
    "![title](englishfreq.png)"
   ]
  },
  {
   "cell_type": "markdown",
   "metadata": {},
   "source": [
    "Evaluate the following cell, which will help us to decipher the message written inside the parentheses.  In the blue bar chart that appears below, the letter frequency in the ciphertext is shown.  By using the dropdown menu, try to find an amount which makes the blue chart match as closely as possible to the shape of the orange chart.  Does the resulting text which is displayed look like English?"
   ]
  },
  {
   "cell_type": "code",
   "execution_count": 4,
   "metadata": {},
   "outputs": [
    {
     "data": {
      "application/vnd.jupyter.widget-view+json": {
       "model_id": "ee86f044201847ef8546adefd3dec642",
       "version_major": 2,
       "version_minor": 0
      },
      "text/plain": [
       "A Jupyter Widget"
      ]
     },
     "metadata": {},
     "output_type": "display_data"
    }
   ],
   "source": [
    "test_interact.break_shift_interact(\"XUBBEJXUHUCODQCUYISXHYIMXQJYIOEKHDQCU\")"
   ]
  },
  {
   "cell_type": "markdown",
   "metadata": {},
   "source": [
    "It turns out we already have all the tools necessary to answer the question from the top of this notebook, about whether the passages are secret messages or are simply random letters?  In the following cell, apply the function test_interact.makeplot(Y) to each of the four passages from above.  Which one do you think is a shift cipher?  Which one do you think is another type of cipher?  Which two do you think are random?  (Warning: strings have to be inside of quotation marks.)"
   ]
  },
  {
   "cell_type": "code",
   "execution_count": 8,
   "metadata": {},
   "outputs": [
    {
     "data": {
      "image/png": "[encoded data removed]",
      "text/plain": [
       "<matplotlib.figure.Figure at 0x10f3cd990>"
      ]
     },
     "metadata": {},
     "output_type": "display_data"
    }
   ],
   "source": [
    "test_interact.makeplot('JCEFOCAQTQOCRPCJDQOJCEFOCAQERGOCRPCJDQOJCEFOCAQFLQRPEJOXRDJCEFOCAQFLQRPPRRVJOAUQOOJCEFOCAQQYRWARPTQVJQPJCEFOCAQQYRWARPJUWGQXKVJCNJCEFOCAQOQFORURPVJLACJCEFOCAQOQFORURPXFGSUQOOJCEFOCAQOYGJULRPARYQJCEFOCAQEJUCQGRPXQOYFJGEQAFXQHQGNCAJULTQPRGQKOEQAFXURCAJULTQPRGQKOEQEQGQFVVLRJULXJGQWCCRAQFHQUEQEQGQFVVLRJULXJGQWCCAQRCAQGEFNJUOARGCCAQYQGJRXEFOORPFGVJSQCAQYGQOQUCYQGJRXCAFCORDQRPJCOURJOJQOCFKCARGJCJQOJUOJOCQXRUJCOTQJULGQWQJHQXPRGLRRXRGPRGQHJVJUCAQOKYQGVFCJHQXQLGQQRPWRDYFGJORURUVN')"
   ]
  },
  {
   "cell_type": "markdown",
   "metadata": {
    "collapsed": true
   },
   "source": [
    "We've seen how to use frequency analysis (in basic cases) to determine if text is ciphertext or random.  Earlier we also saw how to use frequency analysis to determine decrypt text encrypted with the shift cipher.  How can we automate that process?  In other words, how can we automate the process of \"try different shift amounts until the graphs match\".  The idea is to use the notion of *index of coincidence* from class.  We will now implement this strategy.  Examples of some of the terms defined in the file are shown in the next two cells."
   ]
  },
  {
   "cell_type": "code",
   "execution_count": 6,
   "metadata": {},
   "outputs": [
    {
     "data": {
      "text/plain": [
       "{'B': 2,\n",
       " 'C': 3,\n",
       " 'D': 2,\n",
       " 'E': 2,\n",
       " 'H': 3,\n",
       " 'I': 3,\n",
       " 'J': 2,\n",
       " 'K': 1,\n",
       " 'M': 1,\n",
       " 'O': 2,\n",
       " 'Q': 3,\n",
       " 'S': 1,\n",
       " 'U': 5,\n",
       " 'X': 4,\n",
       " 'Y': 3}"
      ]
     },
     "execution_count": 6,
     "metadata": {},
     "output_type": "execute_result"
    }
   ],
   "source": [
    "test_interact.countletters(\"XUBBEJXUHUCODQCUYISXHYIMXQJYIOEKHDQCU\")"
   ]
  },
  {
   "cell_type": "code",
   "execution_count": 7,
   "metadata": {},
   "outputs": [
    {
     "data": {
      "text/plain": [
       "{'A': 0.082,\n",
       " 'B': 0.014,\n",
       " 'C': 0.028,\n",
       " 'D': 0.038,\n",
       " 'E': 0.131,\n",
       " 'F': 0.029,\n",
       " 'G': 0.02,\n",
       " 'H': 0.053,\n",
       " 'I': 0.064,\n",
       " 'J': 0.001,\n",
       " 'K': 0.004,\n",
       " 'L': 0.034,\n",
       " 'M': 0.025,\n",
       " 'N': 0.071,\n",
       " 'O': 0.08,\n",
       " 'P': 0.02,\n",
       " 'Q': 0.001,\n",
       " 'R': 0.068,\n",
       " 'S': 0.061,\n",
       " 'T': 0.105,\n",
       " 'U': 0.025,\n",
       " 'V': 0.009,\n",
       " 'W': 0.015,\n",
       " 'X': 0.002,\n",
       " 'Y': 0.02,\n",
       " 'Z': 0.001}"
      ]
     },
     "execution_count": 7,
     "metadata": {},
     "output_type": "execute_result"
    }
   ],
   "source": [
    "test_interact.englishdictionary"
   ]
  },
  {
   "cell_type": "markdown",
   "metadata": {},
   "source": [
    "The countletters(X) function lists, for each letter in X, how many times it occurs in X.  Using the following template, write a new function which takes as input X and as output returns a dictionary letterprops for which letterprops['A'] is the probability that a randomly chosen letter in X is 'A', and similarly for 'B', etc."
   ]
  },
  {
   "cell_type": "code",
   "execution_count": 16,
   "metadata": {
    "collapsed": true
   },
   "outputs": [],
   "source": [
    "def makeletterprops(X):\n",
    "    X = test_interact.onlyletters(X).upper()\n",
    "    letterprops = {}\n",
    "    temp = test_interact.countletters(X)\n",
    "    length = sum(test_interact.countletters(X).values())\n",
    "    for ch in test_interact.ascii_uppercase:\n",
    "        if ch in temp:\n",
    "            letterprops[ch] = float(temp[ch])/length\n",
    "        else:\n",
    "            letterprops[ch] = 0\n",
    "    return letterprops"
   ]
  },
  {
   "cell_type": "markdown",
   "metadata": {},
   "source": [
    "Reality check: Add up all the values in your letterprops dictionary.  What answer should you get?"
   ]
  },
  {
   "cell_type": "code",
   "execution_count": 17,
   "metadata": {},
   "outputs": [
    {
     "data": {
      "text/plain": [
       "1.0"
      ]
     },
     "execution_count": 17,
     "metadata": {},
     "output_type": "execute_result"
    }
   ],
   "source": [
    "letterprops = makeletterprops(\"XUBBEJXUHUCODQCUYISXHYIMXQJYIOEKHDQCU\")\n",
    "sum(letterprops.values())"
   ]
  },
  {
   "cell_type": "markdown",
   "metadata": {},
   "source": [
    "Using the following template, write a function which takes as input X and as output returns the probability that if you choose a random English letter (according to the probabilities above), call it char1, and you choose a random letter from X, call it char2, that char1 = char2.  In other words, write a function that computes the index of coincidence between X and average English."
   ]
  },
  {
   "cell_type": "code",
   "execution_count": 11,
   "metadata": {
    "collapsed": true
   },
   "outputs": [],
   "source": [
    "def compare_to_english(X):\n",
    "    p = 0;\n",
    "    letterprops = makeletterprops(X)\n",
    "    for ch in test_interact.ascii_uppercase:\n",
    "        p = p + letterprops[ch]*test_interact.englishdictionary[ch]\n",
    "    return p"
   ]
  },
  {
   "cell_type": "code",
   "execution_count": 18,
   "metadata": {},
   "outputs": [
    {
     "data": {
      "text/plain": [
       "0.03375675675675675"
      ]
     },
     "execution_count": 18,
     "metadata": {},
     "output_type": "execute_result"
    }
   ],
   "source": [
    "compare_to_english(\"XUBBEJXUHUCODQCUYISXHYIMXQJYIOEKHDQCU\")"
   ]
  },
  {
   "cell_type": "markdown",
   "metadata": {},
   "source": [
    "Now try out the function compare_to_english with some text that is actually English.  You should get something around .068.  You shouldn't expect to get that exactly, but it should be noticeably different from the output you get when you apply the function to ciphertext."
   ]
  },
  {
   "cell_type": "code",
   "execution_count": 19,
   "metadata": {},
   "outputs": [
    {
     "data": {
      "text/plain": [
       "0.06635135135135135"
      ]
     },
     "execution_count": 19,
     "metadata": {},
     "output_type": "execute_result"
    }
   ],
   "source": [
    "compare_to_english(\"hello there, my name is chris, what is your name?\")"
   ]
  },
  {
   "cell_type": "markdown",
   "metadata": {},
   "source": [
    "Exercise: Prove that if the input is random text, with each letter occuring equally likely, then the output of compare_to_english will be 1/26, or more precisely, it will be a decimal approximation of 1/26.  (How does 1/26 compare to the result above where we input ciphertext?)"
   ]
  },
  {
   "cell_type": "markdown",
   "metadata": {},
   "source": [
    "Write a function autodecrypt(X) which attempts to decrypt from a shift cipher using the following strategy.  For each possible shift amount, shift X by that amount using the function shift_decrypt.  For each of these 26 results, run the compare_to_english function.  Using the results, guess which is the decrypted text, and return that text."
   ]
  },
  {
   "cell_type": "code",
   "execution_count": 20,
   "metadata": {
    "collapsed": true
   },
   "outputs": [],
   "source": [
    "def autodecrypt(X):\n",
    "    current_index = 0\n",
    "    current_max = 0\n",
    "    for i in range(0,26):\n",
    "        Y = test_interact.shift_decrypt(X,i)\n",
    "        temp = compare_to_english(Y)\n",
    "        if temp > current_max:\n",
    "            current_max = temp\n",
    "            current_index = i\n",
    "    return test_interact.shift_decrypt(X,current_index)"
   ]
  },
  {
   "cell_type": "code",
   "execution_count": 12,
   "metadata": {},
   "outputs": [
    {
     "data": {
      "text/plain": [
       "'LOTSOFDRAMA'"
      ]
     },
     "execution_count": 12,
     "metadata": {},
     "output_type": "execute_result"
    }
   ],
   "source": [
    "autodecrypt(\"PSXWSJHVEQE\")"
   ]
  },
  {
   "cell_type": "markdown",
   "metadata": {
    "collapsed": true
   },
   "source": [
    "If we run our function on the word jazz, what do we get? What's the longest piece of normal-sounding English that you can find for which autodecrypt does not work?  (Notice, you don't have to encrypt the phrase, just type it in directly in plain English.)"
   ]
  },
  {
   "cell_type": "code",
   "execution_count": 28,
   "metadata": {},
   "outputs": [
    {
     "data": {
      "text/plain": [
       "'OFEE'"
      ]
     },
     "execution_count": 28,
     "metadata": {},
     "output_type": "execute_result"
    }
   ],
   "source": [
    "autodecrypt('jazz')"
   ]
  },
  {
   "cell_type": "code",
   "execution_count": 64,
   "metadata": {},
   "outputs": [
    {
     "data": {
      "text/plain": [
       "'TCTSSQREHIAHGXLHGZPHNEWUXKXTEERTPYNE'"
      ]
     },
     "execution_count": 64,
     "metadata": {},
     "output_type": "execute_result"
    }
   ],
   "source": [
    "autodecrypt('A jazz xylophone song would be really awful')"
   ]
  }
 ],
 "metadata": {
  "kernelspec": {
   "display_name": "Python 2",
   "language": "python",
   "name": "python2"
  },
  "language_info": {
   "codemirror_mode": {
    "name": "ipython",
    "version": 2
   },
   "file_extension": ".py",
   "mimetype": "text/x-python",
   "name": "python",
   "nbconvert_exporter": "python",
   "pygments_lexer": "ipython2",
   "version": "2.7.13"
  }
 },
 "nbformat": 4,
 "nbformat_minor": 2
}
